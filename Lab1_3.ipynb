{
  "nbformat": 4,
  "nbformat_minor": 0,
  "metadata": {
    "colab": {
      "provenance": [],
      "authorship_tag": "ABX9TyOwMAug30T5EnkTL68rgCgO",
      "include_colab_link": true
    },
    "kernelspec": {
      "name": "python3",
      "display_name": "Python 3"
    },
    "language_info": {
      "name": "python"
    }
  },
  "cells": [
    {
      "cell_type": "markdown",
      "metadata": {
        "id": "view-in-github",
        "colab_type": "text"
      },
      "source": [
        "<a href=\"https://colab.research.google.com/github/Sricharan-Manchala/AI-Assisted-code/blob/main/Lab1_3.ipynb\" target=\"_parent\"><img src=\"https://colab.research.google.com/assets/colab-badge.svg\" alt=\"Open In Colab\"/></a>"
      ]
    },
    {
      "cell_type": "markdown",
      "source": [],
      "metadata": {
        "id": "QCycKufVJC1d"
      }
    },
    {
      "cell_type": "markdown",
      "source": [
        "Task-1: Generate a python function of is_prime() function."
      ],
      "metadata": {
        "id": "M34ZP51HJEjy"
      }
    },
    {
      "cell_type": "code",
      "metadata": {
        "id": "e529eff0"
      },
      "source": [
        "def is_prime(number):\n",
        "  \"\"\"\n",
        "  Checks if a given number is a prime number.\n",
        "\n",
        "  Args:\n",
        "    number: An integer.\n",
        "\n",
        "  Returns:\n",
        "    True if the number is prime, False otherwise.\n",
        "  \"\"\"\n",
        "  if number <= 1:\n",
        "    return False\n",
        "  for i in range(2, int(number**0.5) + 1):\n",
        "    if number % i == 0:\n",
        "      return False\n",
        "  return True"
      ],
      "execution_count": null,
      "outputs": []
    },
    {
      "cell_type": "markdown",
      "source": [
        "Task-2: Generate a python programme for a #function to reverse of a string."
      ],
      "metadata": {
        "id": "bO7gCCm1P7ez"
      }
    },
    {
      "cell_type": "code",
      "metadata": {
        "colab": {
          "base_uri": "https://localhost:8080/"
        },
        "id": "9440ba3b",
        "outputId": "ffaaacb8-2939-4eaf-927e-a6f106dacf8c"
      },
      "source": [
        "def reverse_string(text):\n",
        "  \"\"\"\n",
        "  Reverses a given string.\n",
        "\n",
        "  Args:\n",
        "    text: The string to reverse.\n",
        "\n",
        "  Returns:\n",
        "    The reversed string.\n",
        "  \"\"\"\n",
        "  return text[::-1]\n",
        "  # Example usage\n",
        "original_string = \"hello\"\n",
        "reversed_string = reverse_string(original_string)\n",
        "print(f\"Original string: {original_string}\")\n",
        "print(f\"Reversed string: {reversed_string}\")"
      ],
      "execution_count": null,
      "outputs": [
        {
          "output_type": "stream",
          "name": "stdout",
          "text": [
            "Original string: hello\n",
            "Reversed string: olleh\n"
          ]
        }
      ]
    },
    {
      "cell_type": "markdown",
      "source": [
        "Generate both recursive and iterative versions of a factorial function using comments."
      ],
      "metadata": {
        "id": "XIuPIIkJQ9s4"
      }
    },
    {
      "cell_type": "code",
      "metadata": {
        "colab": {
          "base_uri": "https://localhost:8080/"
        },
        "id": "fc50303d",
        "outputId": "3503cb19-194e-46f1-fa02-0e6be2c590a9"
      },
      "source": [
        "# Recursive version of factorial function\n",
        "def factorial_recursive(n):\n",
        "  \"\"\"\n",
        "  Calculates the factorial of a non-negative integer recursively.\n",
        "\n",
        "  Args:\n",
        "    n: A non-negative integer.\n",
        "\n",
        "  Returns:\n",
        "    The factorial of n.\n",
        "  \"\"\"\n",
        "  if n == 0:\n",
        "    return 1\n",
        "  else:\n",
        "    return n * factorial_recursive(n-1)\n",
        "\n",
        "# Iterative version of factorial function\n",
        "def factorial_iterative(n):\n",
        "  \"\"\"\n",
        "  Calculates the factorial of a non-negative integer iteratively.\n",
        "\n",
        "  Args:\n",
        "    n: A non-negative integer.\n",
        "\n",
        "  Returns:\n",
        "    The factorial of n.\n",
        "  \"\"\"\n",
        "  result = 1\n",
        "  for i in range(1, n + 1):\n",
        "    result *= i\n",
        "  return result\n",
        "\n",
        "# Example usage with comments\n",
        "print(f\"Factorial of 5 (recursive): {factorial_recursive(5)}\")\n",
        "print(f\"Factorial of 5 (iterative): {factorial_iterative(5)}\")"
      ],
      "execution_count": null,
      "outputs": [
        {
          "output_type": "stream",
          "name": "stdout",
          "text": [
            "Factorial of 5 (recursive): 120\n",
            "Factorial of 5 (iterative): 120\n"
          ]
        }
      ]
    },
    {
      "cell_type": "markdown",
      "source": [
        "Task-4: Generate a python program to find the largest number in a list"
      ],
      "metadata": {
        "id": "oKLra3f3RX6v"
      }
    },
    {
      "cell_type": "code",
      "metadata": {
        "colab": {
          "base_uri": "https://localhost:8080/"
        },
        "id": "823259b0",
        "outputId": "34f1b032-06ef-431c-a75b-df1918f67bf4"
      },
      "source": [
        "def find_largest_number(numbers):\n",
        "  \"\"\"\n",
        "  Finds the largest number in a list.\n",
        "\n",
        "  Args:\n",
        "    numbers: A list of numbers.\n",
        "\n",
        "  Returns:\n",
        "    The largest number in the list.\n",
        "  \"\"\"\n",
        "  if not numbers:\n",
        "    return None  # Or raise an error, depending on desired behavior for empty lists\n",
        "  largest = numbers[0]\n",
        "  for number in numbers:\n",
        "    if number > largest:\n",
        "      largest = number\n",
        "  return largest\n",
        "\n",
        "# Example usage:\n",
        "my_list = [10, 5, 20, 8, 15]\n",
        "largest_number = find_largest_number(my_list)\n",
        "print(f\"The largest number in the list is: {largest_number}\")"
      ],
      "execution_count": null,
      "outputs": [
        {
          "output_type": "stream",
          "name": "stdout",
          "text": [
            "The largest number in the list is: 20\n"
          ]
        }
      ]
    }
  ]
}