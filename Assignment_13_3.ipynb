{
  "nbformat": 4,
  "nbformat_minor": 0,
  "metadata": {
    "colab": {
      "provenance": [],
      "authorship_tag": "ABX9TyNoZXtY2l/IO6J0O3y1mA3e",
      "include_colab_link": true
    },
    "kernelspec": {
      "name": "python3",
      "display_name": "Python 3"
    },
    "language_info": {
      "name": "python"
    }
  },
  "cells": [
    {
      "cell_type": "markdown",
      "metadata": {
        "id": "view-in-github",
        "colab_type": "text"
      },
      "source": [
        "<a href=\"https://colab.research.google.com/github/Sricharan-Manchala/AI-Assisted-code/blob/main/Assignment_13_3.ipynb\" target=\"_parent\"><img src=\"https://colab.research.google.com/assets/colab-badge.svg\" alt=\"Open In Colab\"/></a>"
      ]
    },
    {
      "cell_type": "markdown",
      "source": [
        "Task Description #1 – Remove Repetition\n",
        "Task: Provide AI with the following redundant code and ask it to\n",
        "refactor\n",
        "Python Code :\n",
        "def calculate_area(shape, x, y=0):\n",
        "if shape == \"rectangle\":\n",
        "return x * y\n",
        "elif shape == \"square\":\n",
        "return x * x\n",
        "elif shape == \"circle\":\n",
        "return 3.14 * x * x"
      ],
      "metadata": {
        "id": "jdkAAYaPSY1Q"
      }
    },
    {
      "cell_type": "code",
      "metadata": {
        "colab": {
          "base_uri": "https://localhost:8080/"
        },
        "id": "e37fa5b6",
        "outputId": "ee40aaa5-0685-49c7-8e6f-5aab8bc8a8ce"
      },
      "source": [
        "import math\n",
        "\n",
        "def calculate_rectangle_area(x, y):\n",
        "  return x * y\n",
        "\n",
        "def calculate_square_area(x):\n",
        "  return x * x\n",
        "\n",
        "def calculate_circle_area(x):\n",
        "  return math.pi * x * x # Using math.pi for better precision\n",
        "\n",
        "area_calculators = {\n",
        "    \"rectangle\": calculate_rectangle_area,\n",
        "    \"square\": calculate_square_area,\n",
        "    \"circle\": calculate_circle_area\n",
        "}\n",
        "\n",
        "def calculate_area_refactored(shape, x, y=0):\n",
        "  \"\"\"\n",
        "  Calculates the area of different shapes using a dictionary-based dispatch.\n",
        "\n",
        "  Args:\n",
        "    shape: The name of the shape (e.g., \"rectangle\", \"square\", \"circle\").\n",
        "    x: The main dimension (e.g., side for square, radius for circle, length for rectangle).\n",
        "    y: The second dimension for rectangle (default is 0).\n",
        "\n",
        "  Returns:\n",
        "    The calculated area, or None if the shape is not supported.\n",
        "  \"\"\"\n",
        "  if shape in area_calculators:\n",
        "    if shape == \"rectangle\":\n",
        "      return area_calculators[shape](x, y)\n",
        "    else:\n",
        "      return area_calculators[shape](x)\n",
        "  else:\n",
        "    return None # Or raise an error for unsupported shapes\n",
        "\n",
        "# Example usage:\n",
        "print(f\"Area of rectangle (4, 5): {calculate_area_refactored('rectangle', 4, 5)}\")\n",
        "print(f\"Area of square (5): {calculate_area_refactored('square', 5)}\")\n",
        "print(f\"Area of circle (3): {calculate_area_refactored('circle', 3)}\")\n",
        "print(f\"Area of triangle (4, 5): {calculate_area_refactored('triangle', 4, 5)}\") # Example of unsupported shape"
      ],
      "execution_count": 1,
      "outputs": [
        {
          "output_type": "stream",
          "name": "stdout",
          "text": [
            "Area of rectangle (4, 5): 20\n",
            "Area of square (5): 25\n",
            "Area of circle (3): 28.274333882308138\n",
            "Area of triangle (4, 5): None\n"
          ]
        }
      ]
    },
    {
      "cell_type": "markdown",
      "source": [
        "Observation: The refactored calculate_area_refactored function successfully calculates the area for the supported shapes (rectangle, square, and circle) and returns the correct results. It also gracefully handles the unsupported shape (\"triangle\") by returning None, as designed. This demonstrates the improved modularity and how easily new shapes could be added to the area_calculators dictionary.*italicized text*"
      ],
      "metadata": {
        "id": "QMTvthwjT3ar"
      }
    },
    {
      "cell_type": "markdown",
      "source": [
        "Task Description #2 – Error Handling in Legacy Code\n",
        "Task: Legacy function without proper error handling\n",
        "Python Code\n",
        "def read_file(filename):\n",
        "f = open(filename, \"r\")\n",
        "data = f.read()\n",
        "f.close()\n",
        "return data"
      ],
      "metadata": {
        "id": "m26FGGQIUM_h"
      }
    },
    {
      "cell_type": "code",
      "metadata": {
        "colab": {
          "base_uri": "https://localhost:8080/"
        },
        "id": "a62fbcd3",
        "outputId": "43320bd6-4cf1-4aad-914e-a7371b24a603"
      },
      "source": [
        "import os\n",
        "\n",
        "def read_file_refactored(filename):\n",
        "  \"\"\"\n",
        "  Reads the content of a file using with open() and includes error handling.\n",
        "\n",
        "  Args:\n",
        "    filename: The name of the file to read.\n",
        "\n",
        "  Returns:\n",
        "    The content of the file as a string, or None if an error occurs.\n",
        "  \"\"\"\n",
        "  try:\n",
        "    with open(filename, \"r\") as f:\n",
        "      data = f.read()\n",
        "    return data\n",
        "  except FileNotFoundError:\n",
        "    print(f\"Error: File '{filename}' not found.\")\n",
        "    return None\n",
        "  except Exception as e:\n",
        "    print(f\"An error occurred while reading file '{filename}': {e}\")\n",
        "    return None\n",
        "\n",
        "# Example usage:\n",
        "# Create a dummy file for testing\n",
        "with open(\"test_file.txt\", \"w\") as f:\n",
        "  f.write(\"This is a test file.\")\n",
        "\n",
        "print(f\"Content of 'test_file.txt':\")\n",
        "print(read_file_refactored(\"test_file.txt\"))\n",
        "\n",
        "print(\"\\nTrying to read a non-existent file:\")\n",
        "print(read_file_refactored(\"non_existent_file.txt\"))\n",
        "\n",
        "# Clean up the dummy file\n",
        "os.remove(\"test_file.txt\")"
      ],
      "execution_count": 2,
      "outputs": [
        {
          "output_type": "stream",
          "name": "stdout",
          "text": [
            "Content of 'test_file.txt':\n",
            "This is a test file.\n",
            "\n",
            "Trying to read a non-existent file:\n",
            "Error: File 'non_existent_file.txt' not found.\n",
            "None\n"
          ]
        }
      ]
    },
    {
      "cell_type": "markdown",
      "source": [
        "Observation: The refactored read_file_refactored function successfully reads\n",
        "the content of the existing file (test_file.txt) and prints its content. It also correctly identifies when a file does not exist (non_existent_file.txt) and prints the \"File not found\" error message as intended by the error handling. This demonstrates the effectiveness of using with open() for proper resource management and the try-except block for robust error handling."
      ],
      "metadata": {
        "id": "BACj5rK1X59D"
      }
    },
    {
      "cell_type": "markdown",
      "source": [
        "Task Description #3 – Complex Refactoring\n",
        "Task: Provide this legacy class to AI for readability and modularity\n",
        "improvements:\n",
        "Python Code\n",
        "class Student:\n",
        "def __init__(self, n, a, m1, m2, m3):\n",
        "self.n = n\n",
        "self.a = a\n",
        "self.m1 = m1\n",
        "self.m2 = m2\n",
        "self.m3 = m3\n",
        "def details(self):\n",
        "print(\"Name:\", self.n, \"Age:\", self.a)\n",
        "def total(self):\n",
        "return self.m1+self.m2+self.m3"
      ],
      "metadata": {
        "id": "_ixjrKifX_q9"
      }
    },
    {
      "cell_type": "code",
      "metadata": {
        "colab": {
          "base_uri": "https://localhost:8080/"
        },
        "id": "7d6b8fc0",
        "outputId": "9939c962-12ae-4e21-cf5b-6825dbee140f"
      },
      "source": [
        "class StudentRefactored:\n",
        "    \"\"\"Represents a student with name, age, and marks in three subjects.\"\"\"\n",
        "\n",
        "    def __init__(self, name, age, mark1, mark2, mark3):\n",
        "        \"\"\"\n",
        "        Initializes a StudentRefactored object.\n",
        "\n",
        "        Args:\n",
        "            name (str): The name of the student.\n",
        "            age (int): The age of the student.\n",
        "            mark1 (int): The mark in the first subject.\n",
        "            mark2 (int): The mark in the second subject.\n",
        "            mark3 (int): The mark in the third subject.\n",
        "        \"\"\"\n",
        "        self.name = name\n",
        "        self.age = age\n",
        "        self.marks = [mark1, mark2, mark3] # Store marks in a list\n",
        "\n",
        "    def details(self):\n",
        "        \"\"\"Prints the details of the student.\"\"\"\n",
        "        print(f\"Name: {self.name}, Age: {self.age}\")\n",
        "\n",
        "    def total_marks(self):\n",
        "        \"\"\"Calculates and returns the total marks of the student.\"\"\"\n",
        "        return sum(self.marks) # Use sum() with the list of marks\n",
        "\n",
        "# Example usage:\n",
        "student1 = StudentRefactored(\"vaishnavi\", 16, 85, 90, 78)\n",
        "student1.details()\n",
        "print(f\"Total marks: {student1.total_marks()}\")\n",
        "\n",
        "student2 = StudentRefactored(\"Sricharan\", 17, 75, 88, 92)\n",
        "student2.details()\n",
        "print(f\"Total marks: {student2.total_marks()}\")"
      ],
      "execution_count": 4,
      "outputs": [
        {
          "output_type": "stream",
          "name": "stdout",
          "text": [
            "Name: vaishnavi, Age: 16\n",
            "Total marks: 253\n",
            "Name: Sricharan, Age: 17\n",
            "Total marks: 255\n"
          ]
        }
      ]
    },
    {
      "cell_type": "markdown",
      "source": [
        "Observation: The refactored StudentRefactored class successfully creates student objects with clear attribute names (name, age, marks). The details() method now prints the information in a more readable format using an f-string. The total_marks() method correctly calculates the sum of marks stored in the marks list. This demonstrates the improved readability, modularity, and maintainability achieved through the refactoring process, making the class easier to understand and work with."
      ],
      "metadata": {
        "id": "65h473A0Z7n6"
      }
    },
    {
      "cell_type": "markdown",
      "source": [
        "Task Description #4 – Inefficient Loop Refactoring\n",
        "Task: Refactor this inefficient loop with AI help\n",
        "Python Code\n",
        "nums = [1,2,3,4,5,6,7,8,9,10]\n",
        "squares = []\n",
        "for i in nums:\n",
        "squares.append(i * i)"
      ],
      "metadata": {
        "id": "mFGS3XHXaAcU"
      }
    },
    {
      "cell_type": "code",
      "metadata": {
        "colab": {
          "base_uri": "https://localhost:8080/"
        },
        "id": "a93b224c",
        "outputId": "6c76402b-9dcc-411a-f26b-44499c67882b"
      },
      "source": [
        "# Original code\n",
        "nums = [1, 2, 3, 4, 5, 6, 7, 8, 9, 10]\n",
        "squares = []\n",
        "for i in nums:\n",
        "    squares.append(i * i)\n",
        "\n",
        "print(\"Original loop result:\", squares)\n",
        "\n",
        "# Refactored using list comprehension\n",
        "squares_comprehension = [i * i for i in nums]\n",
        "\n",
        "print(\"List comprehension result:\", squares_comprehension)\n",
        "\n",
        "# Verify both methods produce the same result\n",
        "print(\"Results are the same:\", squares == squares_comprehension)"
      ],
      "execution_count": 5,
      "outputs": [
        {
          "output_type": "stream",
          "name": "stdout",
          "text": [
            "Original loop result: [1, 4, 9, 16, 25, 36, 49, 64, 81, 100]\n",
            "List comprehension result: [1, 4, 9, 16, 25, 36, 49, 64, 81, 100]\n",
            "Results are the same: True\n"
          ]
        }
      ]
    },
    {
      "cell_type": "markdown",
      "source": [
        "Observation: The code successfully demonstrates that both the original for loop and the refactored version using a list comprehension produce the exact same result: a list containing the squares of the numbers from 1 to 10. This visually confirms that the list comprehension is a valid and more concise alternative to the explicit loop for this task."
      ],
      "metadata": {
        "id": "oljbv84FeyVK"
      }
    }
  ]
}