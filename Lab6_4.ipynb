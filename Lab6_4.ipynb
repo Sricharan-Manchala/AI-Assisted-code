{
  "nbformat": 4,
  "nbformat_minor": 0,
  "metadata": {
    "colab": {
      "provenance": [],
      "authorship_tag": "ABX9TyOFOtzSdodxiw+OSV08KdVX",
      "include_colab_link": true
    },
    "kernelspec": {
      "name": "python3",
      "display_name": "Python 3"
    },
    "language_info": {
      "name": "python"
    }
  },
  "cells": [
    {
      "cell_type": "markdown",
      "metadata": {
        "id": "view-in-github",
        "colab_type": "text"
      },
      "source": [
        "<a href=\"https://colab.research.google.com/github/Sricharan-Manchala/AI-Assisted-code/blob/main/Lab6_4.ipynb\" target=\"_parent\"><img src=\"https://colab.research.google.com/assets/colab-badge.svg\" alt=\"Open In Colab\"/></a>"
      ]
    },
    {
      "cell_type": "markdown",
      "source": [],
      "metadata": {
        "id": "vTQ58slQK1Qt"
      }
    },
    {
      "cell_type": "markdown",
      "source": [
        "Task-1: Generate a python programme named Student with attributes name, roll_number, and marks. Prompt GitHub Copilot to complete methods for displaying details and checking if marks are above average."
      ],
      "metadata": {
        "id": "Jgu2EZQHK2xn"
      }
    },
    {
      "cell_type": "code",
      "metadata": {
        "colab": {
          "base_uri": "https://localhost:8080/"
        },
        "id": "d191cafb",
        "outputId": "46e584df-2ae0-4fc8-eeff-5b156024edf4"
      },
      "source": [
        "class Student:\n",
        "    def __init__(self, name, roll_number, marks):\n",
        "        self.name = name\n",
        "        self.roll_number = roll_number\n",
        "        self.marks = marks\n",
        "\n",
        "    def display_details(self):\n",
        "        print(f\"Student Name: {self.name}\")\n",
        "        print(f\"Roll Number: {self.roll_number}\")\n",
        "        print(f\"Marks: {self.marks}\")\n",
        "\n",
        "    def is_passed(self, average_marks):\n",
        "        if self.marks > average_marks:\n",
        "            return True\n",
        "        else:\n",
        "            return False\n",
        "\n",
        "# Example Usage:\n",
        "student1 = Student(\"Alice\", \"A001\", 85)\n",
        "student2 = Student(\"Bob\", \"B002\", 60)\n",
        "\n",
        "print(\"Details for Student 1:\")\n",
        "student1.display_details()\n",
        "\n",
        "print(\"\\nDetails for Student 2:\")\n",
        "student2.display_details()\n",
        "\n",
        "average_marks = 70\n",
        "\n",
        "print(f\"\\nChecking if students passed (average marks = {average_marks}):\")\n",
        "if student1.is_passed(average_marks):\n",
        "    print(f\"{student1.name} passed.\")\n",
        "else:\n",
        "    print(f\"{student1.name} did not pass.\")\n",
        "\n",
        "if student2.is_passed(average_marks):\n",
        "    print(f\"{student2.name} passed.\")\n",
        "else:\n",
        "    print(f\"{student2.name} did not pass.\")"
      ],
      "execution_count": null,
      "outputs": [
        {
          "output_type": "stream",
          "name": "stdout",
          "text": [
            "Details for Student 1:\n",
            "Student Name: Alice\n",
            "Roll Number: A001\n",
            "Marks: 85\n",
            "\n",
            "Details for Student 2:\n",
            "Student Name: Bob\n",
            "Roll Number: B002\n",
            "Marks: 60\n",
            "\n",
            "Checking if students passed (average marks = 70):\n",
            "Alice passed.\n",
            "Bob did not pass.\n"
          ]
        }
      ]
    }
  ]
}