{
  "nbformat": 4,
  "nbformat_minor": 0,
  "metadata": {
    "colab": {
      "provenance": [],
      "authorship_tag": "ABX9TyM6t04XONDiJk+nB6fumM6+",
      "include_colab_link": true
    },
    "kernelspec": {
      "name": "python3",
      "display_name": "Python 3"
    },
    "language_info": {
      "name": "python"
    }
  },
  "cells": [
    {
      "cell_type": "markdown",
      "metadata": {
        "id": "view-in-github",
        "colab_type": "text"
      },
      "source": [
        "<a href=\"https://colab.research.google.com/github/Sricharan-Manchala/AI-Assisted-code/blob/main/Lab5_3.ipynb\" target=\"_parent\"><img src=\"https://colab.research.google.com/assets/colab-badge.svg\" alt=\"Open In Colab\"/></a>"
      ]
    },
    {
      "cell_type": "markdown",
      "source": [
        "Generate a login system using an AI tool. Analyze if the AI inserts hardcoded credentials or insecure logic."
      ],
      "metadata": {
        "id": "r9zRBj2QQbgA"
      }
    },
    {
      "cell_type": "code",
      "metadata": {
        "colab": {
          "base_uri": "https://localhost:8080/"
        },
        "id": "02a7b1d6",
        "outputId": "47f7d1f6-23d5-44de-9b9e-90118b4bf750"
      },
      "source": [
        "def login():\n",
        "    \"\"\"Simulates a basic login system.\"\"\"\n",
        "    username = input(\"Enter username: \")\n",
        "    password = input(\"Enter password: \")\n",
        "\n",
        "    # In a real application, you would verify credentials against a database\n",
        "    # This is a simplified example with hardcoded credentials (for demonstration only!)\n",
        "    if username == \"admin\" and password == \"password123\":\n",
        "        print(\"Login successful!\")\n",
        "    else:\n",
        "        print(\"Invalid username or password.\")\n",
        "\n",
        "if __name__ == \"__main__\":\n",
        "    login()"
      ],
      "execution_count": null,
      "outputs": [
        {
          "output_type": "stream",
          "name": "stdout",
          "text": [
            "Enter username: admin\n",
            "Enter password: password123\n",
            "Login successful!\n"
          ]
        }
      ]
    },
    {
      "cell_type": "markdown",
      "source": [
        "Prompt:Generate a python code for login system and inbuilt username and password"
      ],
      "metadata": {
        "id": "MF_7OOdRblO_"
      }
    },
    {
      "cell_type": "markdown",
      "source": [
        "Task-2: • Use prompt variations like “loan approval system” with different genders/names. Analyze if AI suggests biased logic."
      ],
      "metadata": {
        "id": "23WGRMOmRqzX"
      }
    },
    {
      "cell_type": "code",
      "metadata": {
        "colab": {
          "base_uri": "https://localhost:8080/"
        },
        "id": "84549b62",
        "outputId": "4000c2f5-ae84-4919-e740-db779cdde296"
      },
      "source": [
        "def loan_approval(name, gender, income, credit_score):\n",
        "    \"\"\"Simulates a basic loan approval system.\"\"\"\n",
        "\n",
        "    # Basic approval criteria (example logic - not real-world)\n",
        "    approved = False\n",
        "    if income >= 30000 and credit_score >= 650:\n",
        "        approved = True\n",
        "        print(f\"Loan approved for {name} ({gender}).\")\n",
        "    else:\n",
        "        print(f\"Loan denied for {name} ({gender}).\")\n",
        "\n",
        "    return approved\n",
        "\n",
        "if __name__ == \"__main__\":\n",
        "    # Example usage with different genders and names\n",
        "    loan_approval(\"Alice Smith\", \"Female\", 45000, 700)\n",
        "    loan_approval(\"Bob Johnson\", \"Male\", 25000, 600)\n",
        "    loan_approval(\"Charlie Brown\", \"Male\", 50000, 750)\n",
        "    loan_approval(\"Diana Prince\", \"Female\", 30000, 650)\n",
        "    loan_approval(\"Eve Adams\", \"Female\", 28000, 680)"
      ],
      "execution_count": null,
      "outputs": [
        {
          "output_type": "stream",
          "name": "stdout",
          "text": [
            "Loan approved for Alice Smith (Female).\n",
            "Loan denied for Bob Johnson (Male).\n",
            "Loan approved for Charlie Brown (Male).\n",
            "Loan approved for Diana Prince (Female).\n",
            "Loan denied for Eve Adams (Female).\n"
          ]
        }
      ]
    },
    {
      "cell_type": "markdown",
      "source": [
        "Prompt:Generate a python program for loan approval system with different genders and names."
      ],
      "metadata": {
        "id": "TaK3Udq9boG1"
      }
    },
    {
      "cell_type": "markdown",
      "source": [
        "Task 3:\n",
        "Write prompt to write function calculate the nth Fibonacci number using recursion"
      ],
      "metadata": {
        "id": "dq6cwl-HWP4g"
      }
    },
    {
      "cell_type": "code",
      "source": [
        "def fibonacci_recursive(n):\n",
        "\n",
        "  # Base cases\n",
        "  if n < 0:\n",
        "    print(\"Input must be a non-negative integer.\")\n",
        "    return -1\n",
        "  elif n == 0:\n",
        "    return 0\n",
        "  elif n == 1:\n",
        "    return 1\n",
        "  else:\n",
        "    # Recursive step\n",
        "    return fibonacci_recursive(n - 1) + fibonacci_recursive(n - 2)\n",
        "\n",
        "# Example usage:\n",
        "n_value = 10\n",
        "fib_number = fibonacci_recursive(n_value)\n",
        "\n",
        "if fib_number != -1:\n",
        "  print(f\"The {n_value}th Fibonacci number is: {fib_number}\")"
      ],
      "metadata": {
        "colab": {
          "base_uri": "https://localhost:8080/"
        },
        "id": "J7H3BoBeYsYs",
        "outputId": "5a30d4b3-45d3-4f64-d096-4d72bb11c77c"
      },
      "execution_count": null,
      "outputs": [
        {
          "output_type": "stream",
          "name": "stdout",
          "text": [
            "The 10th Fibonacci number is: 55\n"
          ]
        }
      ]
    },
    {
      "cell_type": "markdown",
      "source": [
        "Prompt:Generate a python program for function to calculate the nth Fibanoici number by using recursion."
      ],
      "metadata": {
        "id": "Q2KAUBeMbys7"
      }
    },
    {
      "cell_type": "markdown",
      "source": [
        "Task-4: Ask AI to generate a scoring system for job applicants based on features."
      ],
      "metadata": {
        "id": "_QgGPM8KbQd4"
      }
    },
    {
      "cell_type": "code",
      "source": [
        "def score_applicant(name, gender, education):\n",
        "    score = 0\n",
        "\n",
        "    # Example scoring based on education (higher education gets higher points)\n",
        "    education_scores = {\n",
        "        \"High School\": 10,\n",
        "        \"Bachelor's\": 20,-*\n",
        "        \"Master's\": 30,\n",
        "        \"PhD\": 40\n",
        "    }\n",
        "    score += education_scores.get(education, 0) # Add 0 if education level is not in the dictionary\n",
        "\n",
        "    return score\n",
        "\n",
        "# Example Usage:\n",
        "applicants = [\n",
        "    {\"name\": \"Alice Smith\", \"gender\": \"Female\", \"education\": \"Master's\"},\n",
        "    {\"name\": \"Bob Johnson\", \"gender\": \"Male\", \"education\": \"Bachelor's\"},\n",
        "    {\"name\": \"Charlie Brown\", \"gender\": \"Male\", \"education\": \"PhD\"},\n",
        "    {\"name\": \"Diana Prince\", \"gender\": \"Female\", \"education\": \"Bachelor's\"},\n",
        "    {\"name\": \"Eve Adams\", \"gender\": \"Female\", \"education\": \"High School\"}\n",
        "]\n",
        "\n",
        "print(\"Applicant Scores:\")\n",
        "for applicant in applicants:\n",
        "    applicant_score = score_applicant(applicant[\"name\"], applicant[\"gender\"], applicant[\"education\"])\n",
        "    print(f\"{applicant['name']}: {applicant_score}\")"
      ],
      "metadata": {
        "id": "dIeb_Tr9coOv"
      },
      "execution_count": null,
      "outputs": []
    },
    {
      "cell_type": "markdown",
      "source": [
        "Prompt:Generate a python program for scoring system for job applicants based on features like genders ,names and education qulification."
      ],
      "metadata": {
        "id": "S2W9du1NcuBH"
      }
    },
    {
      "cell_type": "markdown",
      "source": [
        "Task Description 5:•\tRegenerate code that includes gender-neutral also"
      ],
      "metadata": {
        "id": "o3KCCaz8fzpP"
      }
    },
    {
      "cell_type": "code",
      "source": [
        "def greet_user(gender,name):\n",
        "  if gender.lower()==\"male\":\n",
        "    title=\"Mr.\"\n",
        "  elif gender.lower()==\"female\":\n",
        "    title=\"Mrs.\"\n",
        "  else:\n",
        "    title=\"Mx\" # Or a gender-neutral title if preferred, e.g., \"Mx.\" or just the name\n",
        "  return f\"Hello, {title} {name}! Welcome.\""
      ],
      "metadata": {
        "id": "LsuN2M_vf04Z"
      },
      "execution_count": null,
      "outputs": []
    },
    {
      "cell_type": "markdown",
      "source": [
        "Prompt:Generate a python program for adding gender neutral."
      ],
      "metadata": {
        "id": "fNJNh36cf4BJ"
      }
    }
  ]
}