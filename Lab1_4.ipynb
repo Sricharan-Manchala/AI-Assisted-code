{
  "nbformat": 4,
  "nbformat_minor": 0,
  "metadata": {
    "colab": {
      "provenance": [],
      "authorship_tag": "ABX9TyPJ/sOdvu8OVsDLiPsU9T/Q",
      "include_colab_link": true
    },
    "kernelspec": {
      "name": "python3",
      "display_name": "Python 3"
    },
    "language_info": {
      "name": "python"
    }
  },
  "cells": [
    {
      "cell_type": "markdown",
      "metadata": {
        "id": "view-in-github",
        "colab_type": "text"
      },
      "source": [
        "<a href=\"https://colab.research.google.com/github/Sricharan-Manchala/AI-Assisted-code/blob/main/Lab1_4.ipynb\" target=\"_parent\"><img src=\"https://colab.research.google.com/assets/colab-badge.svg\" alt=\"Open In Colab\"/></a>"
      ]
    },
    {
      "cell_type": "markdown",
      "source": [
        "Task-1: Generate a python function that returns the maximum of three numbers."
      ],
      "metadata": {
        "id": "jlt_BwtjVHQP"
      }
    },
    {
      "cell_type": "code",
      "metadata": {
        "colab": {
          "base_uri": "https://localhost:8080/"
        },
        "id": "9852e2a8",
        "outputId": "542447db-5e14-4782-bc5f-593337afadcb"
      },
      "source": [
        "def find_maximum(num1, num2, num3):\n",
        "  \"\"\"\n",
        "  This function takes three numbers as input and returns the maximum among them.\n",
        "\n",
        "  Args:\n",
        "    num1: The first number.\n",
        "    num2: The second number.\n",
        "    num3: The third number.\n",
        "\n",
        "  Returns:\n",
        "    The maximum of the three numbers.\n",
        "  \"\"\"\n",
        "  return max(num1, num2, num3)\n",
        "\n",
        "# Example usage\n",
        "result = find_maximum(10, 5, 20)\n",
        "print(f\"The maximum of the three numbers is: {result}\")"
      ],
      "execution_count": null,
      "outputs": [
        {
          "output_type": "stream",
          "name": "stdout",
          "text": [
            "The maximum of the three numbers is: 20\n"
          ]
        }
      ]
    },
    {
      "cell_type": "markdown",
      "source": [
        "Task-2: Generate a python function of a recursive function that calculates the factorial of a number."
      ],
      "metadata": {
        "id": "O-54UkTcXdJx"
      }
    },
    {
      "cell_type": "code",
      "metadata": {
        "colab": {
          "base_uri": "https://localhost:8080/"
        },
        "id": "31909110",
        "outputId": "54ff85f9-a4a8-4d6b-d8f8-75fc65625f3b"
      },
      "source": [
        "def recursive_factorial(n):\n",
        "  \"\"\"\n",
        "  This function calculates the factorial of a non-negative integer recursively.\n",
        "\n",
        "  Args:\n",
        "    n: The non-negative integer for which to calculate the factorial.\n",
        "\n",
        "  Returns:\n",
        "    The factorial of n.\n",
        "\n",
        "  Raises:\n",
        "    ValueError: If n is a negative integer.\n",
        "  \"\"\"\n",
        "  if n < 0:\n",
        "    raise ValueError(\"Factorial is not defined for negative numbers\")\n",
        "  elif n == 0:\n",
        "    return 1\n",
        "  else:\n",
        "    return n * recursive_factorial(n-1)\n",
        "\n",
        "# Example usage\n",
        "number = 5\n",
        "factorial_result = recursive_factorial(number)\n",
        "print(f\"The factorial of {number} is: {factorial_result}\")"
      ],
      "execution_count": null,
      "outputs": [
        {
          "output_type": "stream",
          "name": "stdout",
          "text": [
            "The factorial of 5 is: 120\n"
          ]
        }
      ]
    },
    {
      "cell_type": "markdown",
      "source": [
        "Task-3: Generate a python program to create a class named Student with attributes name, roll_no,marks and to add student details."
      ],
      "metadata": {
        "id": "Ui0HKOzmXuqj"
      }
    },
    {
      "cell_type": "code",
      "metadata": {
        "colab": {
          "base_uri": "https://localhost:8080/"
        },
        "id": "663400fe",
        "outputId": "d5b8d960-6c2b-4fb9-8c5f-03d3059b3a4f"
      },
      "source": [
        "class Student:\n",
        "  \"\"\"\n",
        "  A class to represent a student.\n",
        "\n",
        "  Attributes:\n",
        "    name (str): The name of the student.\n",
        "    roll_no (str): The roll number of the student.\n",
        "    marks (dict): A dictionary to store marks for different subjects.\n",
        "  \"\"\"\n",
        "  def __init__(self, name, roll_no):\n",
        "    \"\"\"\n",
        "    Initializes a new Student object.\n",
        "\n",
        "    Args:\n",
        "      name (str): The name of the student.\n",
        "      roll_no (str): The roll number of the student.\n",
        "    \"\"\"\n",
        "    self.name = name\n",
        "    self.roll_no = roll_no\n",
        "    self.marks = {}\n",
        "\n",
        "  def add_mark(self, subject, mark):\n",
        "    \"\"\"\n",
        "    Adds marks for a specific subject.\n",
        "\n",
        "    Args:\n",
        "      subject (str): The name of the subject.\n",
        "      mark (float): The mark obtained in the subject.\n",
        "    \"\"\"\n",
        "    self.marks[subject] = mark\n",
        "\n",
        "  def display_details(self):\n",
        "    \"\"\"\n",
        "    Displays the details of the student.\n",
        "    \"\"\"\n",
        "    print(f\"Student Name: {self.name}\")\n",
        "    print(f\"Roll Number: {self.roll_no}\")\n",
        "    print(\"Marks:\")\n",
        "    for subject, mark in self.marks.items():\n",
        "      print(f\"  {subject}: {mark}\")\n",
        "\n",
        "# Example usage:\n",
        "# Create a new student object\n",
        "student1 = Student(\"Alice\", \"A101\")\n",
        "\n",
        "# Add marks for different subjects\n",
        "student1.add_mark(\"Math\", 95)\n",
        "student1.add_mark(\"Science\", 88)\n",
        "student1.add_mark(\"English\", 92)\n",
        "\n",
        "# Display student details\n",
        "student1.display_details()"
      ],
      "execution_count": null,
      "outputs": [
        {
          "output_type": "stream",
          "name": "stdout",
          "text": [
            "Student Name: Alice\n",
            "Roll Number: A101\n",
            "Marks:\n",
            "  Math: 95\n",
            "  Science: 88\n",
            "  English: 92\n"
          ]
        }
      ]
    },
    {
      "cell_type": "markdown",
      "source": [
        "Task-4: Generate a Python function that takes a string as input and returns the\n",
        "frequency of each word."
      ],
      "metadata": {
        "id": "1ngPXj7JZyr8"
      }
    },
    {
      "cell_type": "code",
      "metadata": {
        "colab": {
          "base_uri": "https://localhost:8080/"
        },
        "id": "bf681788",
        "outputId": "365cef72-dd05-4a67-ad1e-8e36cd51b8a6"
      },
      "source": [
        "import re\n",
        "from collections import Counter\n",
        "\n",
        "def word_frequency(text):\n",
        "  \"\"\"\n",
        "  Calculates the frequency of each word in a given string.\n",
        "\n",
        "  Args:\n",
        "    text: The input string.\n",
        "\n",
        "  Returns:\n",
        "    A dictionary where keys are words and values are their frequencies.\n",
        "  \"\"\"\n",
        "  # Remove punctuation and convert to lowercase\n",
        "  text = re.sub(r'[^\\w\\s]', '', text).lower()\n",
        "  # Split the text into words\n",
        "  words = text.split()\n",
        "  # Count the frequency of each word\n",
        "  return Counter(words)\n",
        "\n",
        "# Example usage:\n",
        "input_string = \"This is a sample string. This string is a sample.\"\n",
        "frequency = word_frequency(input_string)\n",
        "print(frequency)"
      ],
      "execution_count": null,
      "outputs": [
        {
          "output_type": "stream",
          "name": "stdout",
          "text": [
            "Counter({'this': 2, 'is': 2, 'a': 2, 'sample': 2, 'string': 2})\n"
          ]
        }
      ]
    }
  ]
}