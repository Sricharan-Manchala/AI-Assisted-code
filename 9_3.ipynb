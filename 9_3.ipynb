{
  "nbformat": 4,
  "nbformat_minor": 0,
  "metadata": {
    "colab": {
      "provenance": [],
      "authorship_tag": "ABX9TyOFlg8YA3ZhaczCkn0CBsQ4",
      "include_colab_link": true
    },
    "kernelspec": {
      "name": "python3",
      "display_name": "Python 3"
    },
    "language_info": {
      "name": "python"
    }
  },
  "cells": [
    {
      "cell_type": "markdown",
      "metadata": {
        "id": "view-in-github",
        "colab_type": "text"
      },
      "source": [
        "<a href=\"https://colab.research.google.com/github/Sricharan-Manchala/AI-Assisted-code/blob/main/9_3.ipynb\" target=\"_parent\"><img src=\"https://colab.research.google.com/assets/colab-badge.svg\" alt=\"Open In Colab\"/></a>"
      ]
    },
    {
      "cell_type": "markdown",
      "source": [
        "Task Description 1: Basic Docstring Generation • Write python function to return sum of even and odd numbers in the given list. • Incorporate manual docstring in code with Google Style • Use an AI-assisted tool (e.g., Copilot, Cursor AI) to generate a docstring describing the function. • Compare the AI-generated docstring with your manually written one."
      ],
      "metadata": {
        "id": "1_B8M12lRDbI"
      }
    },
    {
      "cell_type": "code",
      "source": [
        "def sum_even_odd(numbers):\n",
        "    \"\"\"\n",
        "    Manually written docstring\n",
        "\n",
        "    Calculate the sum of even and odd numbers in a list.\n",
        "\n",
        "    Args:\n",
        "        numbers (list of int): A list of integers.\n",
        "\n",
        "    Returns:\n",
        "        tuple: A tuple containing two integers:\n",
        "            - The sum of even numbers.\n",
        "            - The sum of odd numbers.\n",
        "\n",
        "    Examples:\n",
        "        >>> sum_even_odd([1, 2, 3, 4, 5])\n",
        "        (6, 9)\n",
        "    \"\"\"\n",
        "    \"\"\"\n",
        "    AI written Docstring\n",
        "\n",
        "    This function iterates through a list of numbers and calculates the sum of the even numbers and the sum of the odd numbers separately.\n",
        "    It initializes two variables, even_sum and odd_sum, to zero.\n",
        "    For each number in the input list, it checks if the number is even using the modulo operator (%).\n",
        "    If the number is even, it is added to even_sum.\n",
        "    If the number is odd, it is added to odd_sum.\n",
        "    Finally, it returns a tuple containing the even_sum and odd_sum.\n",
        "    \"\"\"\n",
        "    even_sum = 0\n",
        "    odd_sum = 0\n",
        "    for num in numbers:\n",
        "        if num % 2 == 0:\n",
        "            even_sum += num\n",
        "        else:\n",
        "            odd_sum += num\n",
        "    return even_sum,odd_sum"
      ],
      "metadata": {
        "id": "j59OQGRgRG4Y"
      },
      "execution_count": null,
      "outputs": []
    },
    {
      "cell_type": "markdown",
      "source": [
        "Both explain well while the ai given docstring is more wordyother than that both can easily make someone understand the code."
      ],
      "metadata": {
        "id": "pIKhV-AUSA8F"
      }
    },
    {
      "cell_type": "markdown",
      "source": [
        "Task Description 2: Automatic Inline Comments • Write python program for sru_student class with attributes like name, roll no., hostel_status and fee_update method and display_details method. • Write comments manually for each line/code block • Ask an AI tool to add inline comments explaining each line/step. • Compare the AI-generated comments with your manually written one."
      ],
      "metadata": {
        "id": "jCJbgw5WSJXy"
      }
    },
    {
      "cell_type": "code",
      "source": [
        "# Define a class named SRU_Student to represent a student at SRU\n",
        "class SRU_Student: # AI written comment: Define a class named SRU_Student\n",
        "    # Constructor method to initialize the student's attributes\n",
        "    def _init_(self, name, roll_no, hostel_status, fees_paid): # AI written comment: Initialize the SRU_Student class with name, roll_no, hostel_status, and fees_paid\n",
        "        # Store the student's name\n",
        "        self.name = name # AI written comment: Assign the provided name to the instance's name attribute\n",
        "        # Store the student's roll number\n",
        "        self.roll_no = roll_no # AI written comment: Assign the provided roll_no to the instance's roll_no attribute\n",
        "        # Store the student's hostel status (True for hosteller, False for day scholar)\n",
        "        self.hostel_status = hostel_status # AI written comment: Assign the provided hostel_status to the instance's hostel_status attribute\n",
        "        # Store whether the student has paid the fees (True/False)\n",
        "        self.fees_paid = fees_paid # AI written comment: Assign the provided fees_paid to the instance's fees_paid attribute\n",
        "\n",
        "    # Method to update the student's fee status\n",
        "    def fee_update(self, status): # AI written comment: Define a method to update the fee status\n",
        "        # Update the 'fees_paid' attribute based on the provided status\n",
        "        self.fees_paid = status # AI written comment: Update the fees_paid attribute with the provided status\n",
        "\n",
        "    # Method to display the student's details\n",
        "    def display_details(self): # AI written comment: Define a method to display student details\n",
        "        # Print the student's name\n",
        "        print(\"Name:\", self.name) # AI written comment: Print the student's name\n",
        "        # Print the student's roll number\n",
        "        print(\"Roll Number:\", self.roll_no) # AI written comment: Print the student's roll number\n",
        "        # Print hostel status based on boolean value\n",
        "        print(\"Hostel Status:\", \"Hosteller\" if self.hostel_status else \"Day Scholar\") # AI written comment: Print the hostel status based on the boolean value of hostel_status\n",
        "        # Print fee payment status based on boolean value\n",
        "        print(\"Fees Paid:\", \"Yes\" if self.fees_paid else \"No\") # AI written comment: Print the fee payment status based on the boolean value of fees_paid\n",
        "\n",
        "\n",
        "# ---------------------- Example Usage ---------------------- # AI written comment: Section for example usage\n",
        "\n",
        "# Create an instance of SRU_Student with sample data\n",
        "student1 = SRU_Student(\"Ravi Kumar\", \"2403A52110\", True, False) # AI written comment: Create an instance of SRU_Student\n",
        "\n",
        "# Display the student's details before fee update\n",
        "print(\"Before Fee Update:\") # AI written comment: Print a header for details before fee update\n",
        "student1.display_details() # AI written comment: Call the display_details method for student1\n",
        "\n",
        "# Update the student's fee status to True (i.e., paid)\n",
        "student1.fee_update(True) # AI written comment: Call the fee_update method to update the fee status to True\n",
        "\n",
        "# Display the student's details after fee update\n",
        "print(\"\\nAfter Fee Update:\") # AI written comment: Print a header for details after fee update\n",
        "student1.display_details() # AI written comment: Call the display_details method for student1 after the update"
      ],
      "metadata": {
        "id": "UkliJEDWSNJg"
      },
      "execution_count": null,
      "outputs": []
    },
    {
      "cell_type": "markdown",
      "source": [
        "They both have no differences at all they are smalll and concise and easy to understand."
      ],
      "metadata": {
        "id": "uG9NyCYKTrs0"
      }
    },
    {
      "cell_type": "markdown",
      "source": [
        "Task Description 3: • Write a Python script with 3–4 functions (e.g., calculator: add, subtract, multiply, divide). • Incorporate manual docstring in code with NumPy Style • Use AI assistance to generate a module-level docstring + individual function docstrings. • Compare the AI-generated docstring with your manually written one."
      ],
      "metadata": {
        "id": "A6nsgg7KT0tr"
      }
    },
    {
      "cell_type": "code",
      "source": [
        "\"\"\"\n",
        "AI generated docstring\n",
        "\n",
        "This module provides basic arithmetic operations: addition, subtraction, multiplication, and division.\n",
        "\"\"\"\n",
        "\n",
        "def add(a, b):\n",
        "    \"\"\"\n",
        "    Add two numbers.\n",
        "\n",
        "    Parameters\n",
        "    ----------\n",
        "    a : float or int\n",
        "        The first number.\n",
        "    b : float or int\n",
        "        The second number.\n",
        "\n",
        "    Returns\n",
        "    -------\n",
        "    float\n",
        "        The sum of a and b.\n",
        "    \"\"\"\n",
        "    \"\"\"\n",
        "    AI generated docstring\n",
        "\n",
        "    This function takes two numbers, a and b, and returns their sum.\n",
        "    \"\"\"\n",
        "    return a + b\n",
        "\n",
        "\n",
        "def subtract(a, b):\n",
        "    \"\"\"\n",
        "    Subtract one number from another.\n",
        "\n",
        "    Parameters\n",
        "    ----------\n",
        "    a : float or int\n",
        "        The number to subtract from.\n",
        "    b : float or int\n",
        "        The number to subtract.\n",
        "\n",
        "    Returns\n",
        "    -------\n",
        "    float\n",
        "        The result of a - b.\n",
        "    \"\"\"\n",
        "    \"\"\"\n",
        "    AI generated docstring\n",
        "\n",
        "    This function takes two numbers, a and b, and returns the result of subtracting b from a.\n",
        "    \"\"\"\n",
        "    return a - b\n",
        "\n",
        "\n",
        "def multiply(a, b):\n",
        "    \"\"\"\n",
        "    Multiply two numbers.\n",
        "\n",
        "    Parameters\n",
        "    ----------\n",
        "    a : float or int\n",
        "        The first number.\n",
        "    b : float or int\n",
        "        The second number.\n",
        "\n",
        "    Returns\n",
        "    -------\n",
        "    float\n",
        "        The product of a and b.\n",
        "    \"\"\"\n",
        "    \"\"\"\n",
        "    AI generated docstring\n",
        "\n",
        "    This function takes two numbers, a and b, and returns their product.\n",
        "    \"\"\"\n",
        "    return a * b\n",
        "\n",
        "\n",
        "def divide(a, b):\n",
        "    \"\"\"\n",
        "    Divide one number by another.\n",
        "\n",
        "    Parameters\n",
        "    ----------\n",
        "    a : float or int\n",
        "        The numerator.\n",
        "    b : float or int\n",
        "        The denominator.\n",
        "\n",
        "    Returns\n",
        "    -------\n",
        "    float\n",
        "        The result of a / b.\n",
        "\n",
        "    Raises\n",
        "    ------\n",
        "    ZeroDivisionError\n",
        "        If b is zero.\n",
        "    \"\"\"\n",
        "    \"\"\"\n",
        "    AI generated docstring\n",
        "\n",
        "    This function takes two numbers, a and b, and returns the result of dividing a by b.\n",
        "    It raises a ZeroDivisionError if b is zero.\n",
        "    \"\"\"\n",
        "    if b == 0:\n",
        "        raise ZeroDivisionError(\"Cannot divide by zero.\")\n",
        "    return a / b\n",
        "\n",
        "\n",
        "# --------------------- Example usage -----------------------\n",
        "\n",
        "# Define two numbers\n",
        "num1 = 10\n",
        "num2 = 5\n",
        "\n",
        "# Perform operations using the functions\n",
        "print(\"Addition:\", add(num1, num2))        # 15\n",
        "print(\"Subtraction:\", subtract(num1, num2))  # 5\n",
        "print(\"Multiplication:\", multiply(num1, num2))  # 50\n",
        "print(\"Division:\", divide(num1, num2))      # 2.0"
      ],
      "metadata": {
        "id": "PAFxUfM7T5LL"
      },
      "execution_count": null,
      "outputs": []
    },
    {
      "cell_type": "markdown",
      "source": [
        "Prompt:This has the same result of the previous tasks they do not have any differences other than the ai docstring bieng more word."
      ],
      "metadata": {
        "id": "YuiaYjveUAdG"
      }
    },
    {
      "cell_type": "markdown",
      "source": [],
      "metadata": {
        "id": "N8qH_E1lSUaX"
      }
    }
  ]
}