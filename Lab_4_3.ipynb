{
  "nbformat": 4,
  "nbformat_minor": 0,
  "metadata": {
    "colab": {
      "provenance": [],
      "authorship_tag": "ABX9TyMpqu+dju563HYF+K29iOTM",
      "include_colab_link": true
    },
    "kernelspec": {
      "name": "python3",
      "display_name": "Python 3"
    },
    "language_info": {
      "name": "python"
    }
  },
  "cells": [
    {
      "cell_type": "markdown",
      "metadata": {
        "id": "view-in-github",
        "colab_type": "text"
      },
      "source": [
        "<a href=\"https://colab.research.google.com/github/Sricharan-Manchala/AI-Assisted-code/blob/main/Lab_4_3.ipynb\" target=\"_parent\"><img src=\"https://colab.research.google.com/assets/colab-badge.svg\" alt=\"Open In Colab\"/></a>"
      ]
    },
    {
      "cell_type": "markdown",
      "source": [
        "Task-1:\n",
        "• Zero-shot: Prompt AI to write a function that checks whether a given year is a leap year"
      ],
      "metadata": {
        "id": "Pw2TW6IAij8Y"
      }
    },
    {
      "cell_type": "code",
      "source": [
        "def is_leap(year):\n",
        "  return (year % 4 == 0 and year % 100 != 0) or (year % 400 == 0)\n",
        "\n",
        "# Example usage:\n",
        "print(f\"Is 2000 a leap year? {is_leap(2000)}\")\n",
        "print(f\"Is 2023 a leap year? {is_leap(2023)}\")\n",
        "print(f\"Is 2024 a leap year? {is_leap(2024)}\")"
      ],
      "metadata": {
        "id": "zIs5s78di5DW"
      },
      "execution_count": null,
      "outputs": []
    },
    {
      "cell_type": "markdown",
      "source": [
        "Prompt:Generate a python function that checks whether a given year is a leap year or not."
      ],
      "metadata": {
        "id": "3wTliM37jR91"
      }
    },
    {
      "cell_type": "markdown",
      "source": [
        "Task Description:2\n",
        "Give one input-output example to guide AI in writing a function that\n",
        "converts centimeters to inche"
      ],
      "metadata": {
        "id": "ckf5jvQKjXUl"
      }
    },
    {
      "cell_type": "code",
      "source": [
        "def cm_to_inches(cm):\n",
        "  \"\"\"Converts centimeters to inches.\"\"\"\n",
        "  return cm * 0.393701\n",
        "\n",
        "# Example usage:\n",
        "print(f\"10 centimeters is equal to {cm_to_inches(10)} inches\")"
      ],
      "metadata": {
        "colab": {
          "base_uri": "https://localhost:8080/"
        },
        "id": "8GCkoATNjqoF",
        "outputId": "5fa0ee96-e58e-4369-c522-426db523e129"
      },
      "execution_count": null,
      "outputs": [
        {
          "output_type": "stream",
          "name": "stdout",
          "text": [
            "10 centimeters is equal to 3.9370100000000003 inches\n"
          ]
        }
      ]
    },
    {
      "cell_type": "markdown",
      "source": [
        "Generate a python function that converts centimeters into  inches."
      ],
      "metadata": {
        "id": "-UnsbP5wkHi0"
      }
    },
    {
      "cell_type": "markdown",
      "source": [
        "Task Description 3:\n",
        "Few-shot: Provide 2–3 examples to generate a function that formats full names as “Last, First”."
      ],
      "metadata": {
        "id": "LsvHBQP2krvr"
      }
    },
    {
      "cell_type": "code",
      "source": [
        "def format_name_reverse(full_name):\n",
        "  words = full_name.split()\n",
        "  if len(words) >= 2:\n",
        "    # Reverse the list of words and join them with a space\n",
        "    return \" \".join(words[::-1])\n",
        "  else:\n",
        "    return full_name # Return the name as is if there's only one word\n",
        "\n",
        "# Example usage based on your examples:\n",
        "print(f\"'itharaveni snehitha' formatted: {format_name_reverse('vaishnavi')}\")\n",
        "print(f\"'itharavenikarthik' formatted: {format_name_reverse('sricharan')}\")"
      ],
      "metadata": {
        "id": "IS47-YWBk36Y"
      },
      "execution_count": null,
      "outputs": []
    },
    {
      "cell_type": "markdown",
      "source": [
        "Prompt:Generate a python function that formats full names as\n",
        "“Last, First”for ex:sricharan the output is sricharan."
      ],
      "metadata": {
        "id": "gM6WSgyYmaxP"
      }
    },
    {
      "cell_type": "markdown",
      "source": [
        "Task Description-4:\n",
        "Compare zero-shot and few-shot prompts for writing a function that counts the\n",
        "number of vowels in a string"
      ],
      "metadata": {
        "id": "wbpaI8uMmh4g"
      }
    },
    {
      "cell_type": "code",
      "source": [
        "def count_vowels(text):\n",
        "  \"\"\"Counts the number of vowels in a string.\"\"\"\n",
        "  vowels = \"aeiouAEIOU\"\n",
        "  count = 0\n",
        "  for char in text:\n",
        "    if char in vowels:\n",
        "      count += 1\n",
        "  return count\n",
        "\n",
        "# Example usage:\n",
        "print(f\"The number of vowels in 'hello world' is: {count_vowels('hello world')}\")\n",
        "print(f\"The number of vowels in 'Python Programming' is: {count_vowels('Python Programming')}\")"
      ],
      "metadata": {
        "id": "xH3ZpyYZmouO"
      },
      "execution_count": null,
      "outputs": []
    },
    {
      "cell_type": "markdown",
      "source": [
        "Prompt:Generate a python function that counts the number of vowels in a string."
      ],
      "metadata": {
        "id": "k5f9diqInF-Y"
      }
    },
    {
      "cell_type": "markdown",
      "source": [
        "Task Description-5:\n",
        "Use few-shot prompting to generate a function that reads a .txt file and returns the number of lines"
      ],
      "metadata": {
        "id": "uph6narNnqT0"
      }
    },
    {
      "cell_type": "code",
      "source": [
        "def count_lines_in_file(filename):\n",
        "  try:\n",
        "    with open(filename, 'r') as f:\n",
        "      return sum(1 for line in f)\n",
        "  except FileNotFoundError:\n",
        "    print(f\"Error: The file '{filename}' was not found.\")\n",
        "    return 0\n",
        "  except Exception as e:\n",
        "    print(f\"An error occurred: {e}\")\n",
        "    return 0\n",
        "\n",
        "# Example usage (you'll need to create a test.txt file):\n",
        "# Create a dummy file for testing\n",
        "with open(\"test.txt\", \"w\") as f:\n",
        "    f.write(\"This is line 1.\\n\")\n",
        "    f.write(\"This is line 2.\\n\")\n",
        "    f.write(\"This is line 3.\\n\")\n",
        "\n",
        "print(f\"Number of lines in 'test.txt': {count_lines_in_file('test.txt')}\")"
      ],
      "metadata": {
        "id": "A-ihPrtpoT4z"
      },
      "execution_count": null,
      "outputs": []
    },
    {
      "cell_type": "markdown",
      "source": [
        "Prompt:Generate a python function that reads a .txt file and returns the number of lines."
      ],
      "metadata": {
        "id": "Lp7O7L9ToX_R"
      }
    }
  ]
}