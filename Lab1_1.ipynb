{
  "nbformat": 4,
  "nbformat_minor": 0,
  "metadata": {
    "colab": {
      "provenance": [],
      "authorship_tag": "ABX9TyNbMhHK0A7PwGaJXyBRcu/k",
      "include_colab_link": true
    },
    "kernelspec": {
      "name": "python3",
      "display_name": "Python 3"
    },
    "language_info": {
      "name": "python"
    }
  },
  "cells": [
    {
      "cell_type": "markdown",
      "metadata": {
        "id": "view-in-github",
        "colab_type": "text"
      },
      "source": [
        "<a href=\"https://colab.research.google.com/github/Sricharan-Manchala/AI-Assisted-code/blob/main/Lab1_1.ipynb\" target=\"_parent\"><img src=\"https://colab.research.google.com/assets/colab-badge.svg\" alt=\"Open In Colab\"/></a>"
      ]
    },
    {
      "cell_type": "markdown",
      "source": [],
      "metadata": {
        "id": "Bp4EL2-UH5o8"
      }
    },
    {
      "cell_type": "markdown",
      "source": [
        "Generate a python programme that calculates a factorial of a number without defining any function"
      ],
      "metadata": {
        "id": "_h5yUJr9H8O0"
      }
    },
    {
      "cell_type": "code",
      "metadata": {
        "colab": {
          "base_uri": "https://localhost:8080/"
        },
        "id": "9120099b",
        "outputId": "ea9a5e70-fbb1-40ec-9b3c-b0858b3a2221"
      },
      "source": [
        "num = int(input(\"Enter a non-negative integer: \"))\n",
        "\n",
        "if num < 0\n",
        "    print(\"Factorial is not defined for negative numbers\")\n",
        "elif num == 0:\n",
        "    print(\"The factorial of 0 is 1\")\n",
        "else:\n",
        "    factorial = 1\n",
        "    i = 1\n",
        "    while i <= num:\n",
        "        factorial *= i\n",
        "        i += 1\n",
        "    print(f\"The factorial of {num} is {factorial}\")"
      ],
      "execution_count": null,
      "outputs": [
        {
          "output_type": "stream",
          "name": "stdout",
          "text": [
            "Enter a non-negative integer: 5\n",
            "The factorial of 5 is 120\n"
          ]
        }
      ]
    },
    {
      "cell_type": "markdown",
      "source": [
        "Task-3: Generate a python programme for factorial of a number by using define function"
      ],
      "metadata": {
        "id": "bi94MwbUJx3u"
      }
    },
    {
      "cell_type": "code",
      "metadata": {
        "colab": {
          "base_uri": "https://localhost:8080/"
        },
        "id": "374f25f6",
        "outputId": "9b5f07e8-8178-4af1-f570-28186efca423"
      },
      "source": [
        " def factorial(n):\n",
        "  \"\"\"Calculates the factorial of a non-negative integer.\"\"\"\n",
        "  if n < 0:\n",
        "    return \"Factorial is not defined for negative numbers\"\n",
        "  elif n == 0:\n",
        "    return 1\n",
        "  else:\n",
        "    result = 1\n",
        "    for i in range(1, n + 1):\n",
        "      result *= i\n",
        "    return result\n",
        "\n",
        "num = int(input(\"Enter a non-negative integer: \"))\n",
        "print(f\"The factorial of {num} is {factorial(num)}\")"
      ],
      "execution_count": null,
      "outputs": [
        {
          "output_type": "stream",
          "name": "stdout",
          "text": [
            "Enter a non-negative integer: 5\n",
            "The factorial of 5 is 120\n"
          ]
        }
      ]
    },
    {
      "cell_type": "markdown",
      "source": [
        "Difference between the factorial of a number by using function and without using function."
      ],
      "metadata": {
        "id": "KkT-8j0YL7v1"
      }
    },
    {
      "cell_type": "markdown",
      "source": [
        "Logic:\n",
        "\n",
        "Without functions : The logic for calculating the factorial is directly embedded within the main part of the script. It takes the input, checks for negative numbers or zero, and then uses a for loop to calculate the factorial iteratively.\n",
        "With functions : The logic for calculating the factorial is encapsulated within a dedicated function called factorial(). This function takes an integer n as input and returns the calculated factorial or an error message for negative numbers. The main part of the script is responsible for getting user input and calling this function.\n",
        "\n",
        "Reusability:\n",
        "Without functions: This code is less reusable. If you needed to calculate the factorial in another part of your script or in a different program, you would need to copy and paste the entire block of code.\n",
        "With functions: This code is highly reusable. The factorial() function can be called multiple times within the same script with different inputs, or it can be easily imported and used in other Python programs.\n",
        "\n",
        "Execution:\n",
        "Without functions: The code executes sequentially from top to bottom. The input is taken, and the factorial is calculated and printed directly.\n",
        "With functions: The execution flow involves calling the factorial() function from the main part of the script. When the function is called, the program jumps to the function's definition, executes the code within the function, and then returns to the point where the function was called to continue execution."
      ],
      "metadata": {
        "id": "HYMWY7q7MlTs"
      }
    },
    {
      "cell_type": "markdown",
      "source": [],
      "metadata": {
        "id": "IEZHNMnLNTf1"
      }
    },
    {
      "cell_type": "markdown",
      "source": [
        "Task-5: Generate a python function for both iterative and recursive\n",
        "versions of the factorial function."
      ],
      "metadata": {
        "id": "2oHTEwHkNa0w"
      }
    },
    {
      "cell_type": "code",
      "metadata": {
        "colab": {
          "base_uri": "https://localhost:8080/"
        },
        "id": "6bb53a60",
        "outputId": "7ad24d0e-42ba-429d-a2af-0b678d7d6f4a"
      },
      "source": [
        "def iterative_factorial(n):\n",
        "  \"\"\"Calculates the factorial of a non-negative integer iteratively.\"\"\"\n",
        "  if n < 0:\n",
        "    return \"Factorial is not defined for negative numbers\"\n",
        "  elif n == 0:\n",
        "    return 1\n",
        "  else:\n",
        "    result = 1\n",
        "    for i in range(1, n + 1):\n",
        "      result *= i\n",
        "    return result\n",
        "\n",
        "def recursive_factorial(n):\n",
        "  \"\"\"Calculates the factorial of a non-negative integer recursively.\"\"\"\n",
        "  if n < 0:\n",
        "    return \"Factorial is not defined for negative numbers\"\n",
        "  elif n == 0:\n",
        "    return 1\n",
        "  else:\n",
        "    return n * recursive_factorial(n - 1)\n",
        "\n",
        "# Example usage:\n",
        "num = int(input(\"Enter a non-negative integer: \"))\n",
        "\n",
        "print(f\"Iterative factorial of {num} is: {iterative_factorial(num)}\")\n",
        "print(f\"Recursive factorial of {num} is: {recursive_factorial(num)}\")"
      ],
      "execution_count": null,
      "outputs": [
        {
          "output_type": "stream",
          "name": "stdout",
          "text": [
            "Enter a non-negative integer: 6\n",
            "Iterative factorial of 6 is: 720\n",
            "Recursive factorial of 6 is: 720\n"
          ]
        }
      ]
    }
  ]
}